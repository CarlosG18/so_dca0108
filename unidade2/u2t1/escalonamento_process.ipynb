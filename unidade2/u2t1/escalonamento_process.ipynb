{
 "cells": [
  {
   "cell_type": "markdown",
   "id": "d43b0085-4d96-4098-a8a1-2b45b17896f7",
   "metadata": {},
   "source": [
    "# Escalonamento de Processos\n",
    "\n",
    "Criando um simulador de escalonamento de processos para realizar a compareção do tempo de espera e do tempo de CPU de diferentes algoritmos de escalonamento existentes."
   ]
  },
  {
   "cell_type": "markdown",
   "id": "a8926f89-69fb-4920-a171-0805827a6b64",
   "metadata": {},
   "source": [
    "## Criando a Classe Process"
   ]
  },
  {
   "cell_type": "code",
   "execution_count": 86,
   "id": "5217eeb6-e0ff-4ed7-9e96-71789a9e5c26",
   "metadata": {},
   "outputs": [],
   "source": [
    "class Process():\n",
    "    \"\"\"\n",
    "\n",
    "    \"\"\"\n",
    "    def __init__(self, pid, pico_cpu, time_espera=0):\n",
    "        self.pid = pid\n",
    "        self.pico_cpu = int(pico_cpu)\n",
    "        self.time_espera = time_espera\n",
    "\n",
    "    def att_time_espera(self):\n",
    "        self.time_espera += 1\n",
    "\n",
    "    def att_time_cpu(self):\n",
    "        self.pico_cpu -= 1\n",
    "\n",
    "    def __str__(self):\n",
    "        return f'processo PID - {self.pid} - tempo cpu: {self.pico_cpu} - tempo de espera: {self.time_espera}'\n",
    "    "
   ]
  },
  {
   "cell_type": "markdown",
   "id": "aba52994-17d8-4017-8081-65f830899455",
   "metadata": {},
   "source": [
    "## Criando a class Simulacao"
   ]
  },
  {
   "cell_type": "code",
   "execution_count": 85,
   "id": "7958a9a9-a44a-44b8-908a-74a6cc500240",
   "metadata": {},
   "outputs": [],
   "source": [
    "import queue\n",
    "\n",
    "class Simulacao():\n",
    "    \"\"\"\n",
    "\n",
    "    \"\"\"\n",
    "    def __init__(self):\n",
    "        self.fila_processos_prontos = self.create_fila()\n",
    "        self.list_processos_acabados = []\n",
    "\n",
    "    def create_fila(self):\n",
    "        self.fila_processos_prontos = queue.Queue()\n",
    "\n",
    "        with open(\"picos_cpu.dat\", \"r\") as file:\n",
    "            lines = file.readlines()\n",
    "            for item in lines:\n",
    "                pid, cpu = item.split()\n",
    "                self.fila_processos_prontos.put(Process(pid,cpu))\n",
    "        return self.fila_processos_prontos\n",
    "\n",
    "    def calc_media_tempo_espera(self):\n",
    "        tempos = [process.time_espera for process in self.list_processos_acabados]\n",
    "        soma = sum(tempos)\n",
    "        num_elementos = len(tempos)\n",
    "        return soma/num_elementos"
   ]
  },
  {
   "cell_type": "markdown",
   "id": "03345652-1f07-428d-8f8d-556e53e0a9b0",
   "metadata": {},
   "source": [
    "# Criando a class FCFS para simular o algoritmo FCFS"
   ]
  },
  {
   "cell_type": "code",
   "execution_count": 84,
   "id": "cde58457-3205-4e88-a191-6c741cfe3583",
   "metadata": {},
   "outputs": [],
   "source": [
    "class FCFS(Simulacao):\n",
    "    \"\"\"\n",
    "\n",
    "    \"\"\"\n",
    "    def __init__(self):\n",
    "        super().__init__()\n",
    "\n",
    "    def exec(self):\n",
    "        time_espera = 0\n",
    "        \n",
    "        while not self.fila_processos_prontos.empty():\n",
    "            process_current = self.fila_processos_prontos.get()\n",
    "            process_current.time_espera = time_espera\n",
    "        \n",
    "            while int(process_current.pico_cpu) > 0:\n",
    "                process_current.att_time_cpu()\n",
    "                time_espera += 1\n",
    "        \n",
    "            #terminado o while -> processo finalizado\n",
    "            self.list_processos_acabados.append(process_current)"
   ]
  },
  {
   "cell_type": "markdown",
   "id": "c594d650-b84a-4282-b229-38a13a5d17d3",
   "metadata": {},
   "source": [
    "# Instânciando um objeto FCFS para realizar a simulação."
   ]
  },
  {
   "cell_type": "code",
   "execution_count": 82,
   "id": "1c8ec17f-f794-458c-89c4-abe6bb307b94",
   "metadata": {},
   "outputs": [
    {
     "name": "stdout",
     "output_type": "stream",
     "text": [
      "tempo médio de espera: 3360.01\n"
     ]
    }
   ],
   "source": [
    "algorith_fcfs = FCFS()\n",
    "algorith_fcfs.exec()\n",
    "print(f'tempo médio de espera: {algorith_fcfs.calc_media_tempo_espera()}')"
   ]
  },
  {
   "cell_type": "markdown",
   "id": "4af48cf8-1c31-43be-adcc-318143d83c31",
   "metadata": {},
   "source": [
    "## Criando a class SJF para o algoritmo (Shortest Job First)"
   ]
  },
  {
   "cell_type": "code",
   "execution_count": null,
   "id": "5b5fdc1e-179a-4e24-9b84-9c9622c6b9bc",
   "metadata": {},
   "outputs": [],
   "source": [
    "class SJF(Simulacao):\n",
    "    \"\"\"\n",
    "\n",
    "    \"\"\"\n",
    "    def __init__(self):\n",
    "        super().__init__()\n",
    "\n",
    "    def sort_queue(self):\n",
    "        \"\"\"\n",
    "            ordenar a fila de acordo com o menor tempo de execução\n",
    "        \"\"\"\n",
    "        list_temp = []\n",
    "\n",
    "        while not self.fila_processos_prontos.empty():\n",
    "            process = fila_processos_prontos.get()\n",
    "            list_temp.append(process)\n",
    "\n",
    "        list_sorted = sorted(list_temp, key=lambda process: process.pico_cpu)\n",
    "\n",
    "        for process in list_sorted:\n",
    "            self.fila_processos_prontos.put(process)\n",
    "\n",
    "    def exec(self):\n",
    "        self.sort_queue()\n",
    "        while not self.fila_processos_prontos.empty():\n",
    "            process = fila_processos_prontos.get()\n",
    "            print(process)\n",
    "        \n",
    "\n",
    "class SJF_P(Simulacao):\n",
    "    \"\"\"\n",
    "\n",
    "    \"\"\"\n",
    "    def __init__(self):\n",
    "        super().__init__()\n",
    "\n",
    "    def exec(self):\n",
    "        pass"
   ]
  },
  {
   "cell_type": "markdown",
   "id": "7075fa6e-e052-4ef4-b1e4-793c6a6b5a1f",
   "metadata": {},
   "source": [
    "## Criando a class RoundRobin para o algoritmo Round Robin"
   ]
  },
  {
   "cell_type": "code",
   "execution_count": null,
   "id": "b0afb7b9-237a-4502-acd0-c81e1a61d58e",
   "metadata": {},
   "outputs": [],
   "source": [
    "class RoundRobin(Simulacao):\n",
    "    \"\"\"\n",
    "\n",
    "    \"\"\"\n",
    "    def __init__(self, time):\n",
    "        super().__init__()\n",
    "        self.time = time\n",
    "\n",
    "    def exec(self):\n",
    "        pass"
   ]
  }
 ],
 "metadata": {
  "kernelspec": {
   "display_name": "Python 3 (ipykernel)",
   "language": "python",
   "name": "python3"
  },
  "language_info": {
   "codemirror_mode": {
    "name": "ipython",
    "version": 3
   },
   "file_extension": ".py",
   "mimetype": "text/x-python",
   "name": "python",
   "nbconvert_exporter": "python",
   "pygments_lexer": "ipython3",
   "version": "3.12.4"
  }
 },
 "nbformat": 4,
 "nbformat_minor": 5
}
