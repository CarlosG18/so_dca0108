{
 "cells": [
  {
   "cell_type": "markdown",
   "id": "d43b0085-4d96-4098-a8a1-2b45b17896f7",
   "metadata": {},
   "source": [
    "# Escalonamento de Processos\n",
    "\n",
    "Criando um simulador de escalonamento de processos para realizar a compareção do tempo de espera e do tempo de CPU de diferentes algoritmos de escalonamento existentes."
   ]
  },
  {
   "cell_type": "markdown",
   "id": "a8926f89-69fb-4920-a171-0805827a6b64",
   "metadata": {},
   "source": [
    "## Criando a Classe para a simulação"
   ]
  },
  {
   "cell_type": "code",
   "execution_count": 14,
   "id": "5217eeb6-e0ff-4ed7-9e96-71789a9e5c26",
   "metadata": {},
   "outputs": [],
   "source": [
    "class Process():\n",
    "    def __init__(self, pid, pico_cpu, time_espera=0):\n",
    "        self.pid = pid\n",
    "        self.pico_cpu = pico_cpu\n",
    "        self.time_espera = time_espera\n",
    "\n",
    "    def get_time_espera(self):\n",
    "        return self.time_espera\n",
    "\n",
    "    def att_time_espera(self):\n",
    "        self.time_espera += 1\n",
    "\n",
    "    def att_pico_cpu(self):\n",
    "        self.pico_cpu -= 1\n",
    "\n",
    "    def __str__(self):\n",
    "        return f'processo PID - {self.pid}'\n",
    "    "
   ]
  },
  {
   "cell_type": "markdown",
   "id": "03345652-1f07-428d-8f8d-556e53e0a9b0",
   "metadata": {},
   "source": [
    "# Criando uma lista de processos\n",
    "\n",
    "será lido do arquivo `picos_cpu.dat` e a partir dele criado uma lista com todos os processos e seus tempos de cpu."
   ]
  },
  {
   "cell_type": "code",
   "execution_count": 19,
   "id": "cde58457-3205-4e88-a191-6c741cfe3583",
   "metadata": {},
   "outputs": [],
   "source": [
    "fila_processos_prontos = []\n",
    "\n",
    "with open(\"picos_cpu.dat\", \"r\") as file:\n",
    "    lines = file.readlines()\n",
    "    for item in lines:\n",
    "        pid, cpu = item.split()\n",
    "        fila_processos_prontos.append(Process(pid,cpu))"
   ]
  },
  {
   "cell_type": "markdown",
   "id": "60e4e28d-d2fb-4512-964f-198c14cebc78",
   "metadata": {},
   "source": [
    "## definindo os algoritmos de escalonamento de processos\n",
    "\n",
    "### FCFS (Fist Came, First Served)"
   ]
  },
  {
   "cell_type": "code",
   "execution_count": null,
   "id": "dce53a72-415c-47ea-83a8-5ac15cf343c4",
   "metadata": {},
   "outputs": [],
   "source": []
  }
 ],
 "metadata": {
  "kernelspec": {
   "display_name": "Python 3 (ipykernel)",
   "language": "python",
   "name": "python3"
  },
  "language_info": {
   "codemirror_mode": {
    "name": "ipython",
    "version": 3
   },
   "file_extension": ".py",
   "mimetype": "text/x-python",
   "name": "python",
   "nbconvert_exporter": "python",
   "pygments_lexer": "ipython3",
   "version": "3.12.4"
  }
 },
 "nbformat": 4,
 "nbformat_minor": 5
}
